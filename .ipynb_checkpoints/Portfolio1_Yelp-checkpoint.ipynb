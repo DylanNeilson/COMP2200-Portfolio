{
 "cells": [
  {
   "cell_type": "markdown",
   "id": "379d9b3f",
   "metadata": {},
   "source": [
    "# Analysis of Yelp Data\n",
    "\n",
    "\n",
    "The Yelp dataset is a collection of user-generated reviews and associated data for businesses in various cities. The data includes information such as the business name, category, location, and rating, as well as the user ID and review text for each review. This data can be used to analyze patterns and trends in consumer behavior, business performance, and geographic locations. Additionally, the dataset provides an opportunity to explore the relationships between different variables, such as ratings, reviews, and business categories. This data can be leveraged to gain insights and make informed decisions in a variety of industries, including marketing, business management, and public policy.\n",
    "\n",
    "Description of the variables of the data used here.\n",
    "\n",
    "* __business_id__ - A unique identifier for each business in the dataset\n",
    "* __business_categories__ - A list of categories associated with the business\n",
    "* __business_city__ - The city where the business is located.\n",
    "* __user_id__ - A unique identifier for each user who has written a review.\n",
    "* __text__ - The text of the review.\n",
    "* __stars__ - The user's rating towards the business\n",
    "* __useful__ - The number of times the review was voted as useful.\n",
    "* __date__ - The date the review was posted."
   ]
  },
  {
   "cell_type": "markdown",
   "id": "5edf3fef",
   "metadata": {},
   "source": [
    " # Q1. Check and remove missing data\n",
    " \n",
    "### Q1.1 Write a Python code snippet that checks for missing values in each column of the dataset. If any, only display the names of the columns with missing values and their corresponding number of missing values. Print the length of the data before removing the missing data.\n",
    "\n",
    "Note: Only output the number of missing values for the columns having at least one missing value!"
   ]
  },
  {
   "cell_type": "code",
   "execution_count": 5,
   "id": "18ab0f41",
   "metadata": {},
   "outputs": [],
   "source": [
    "# Import required libraries for questions\n",
    "import pandas as pd\n",
    "import numpy as np\n",
    "import matplotlib.pyplot as plt\n",
    "\n",
    "# Import dataset\n",
    "dataset = pd.read_csv(\"data/Yelp_Portfolio1_Input.csv\")"
   ]
  },
  {
   "cell_type": "code",
   "execution_count": 6,
   "id": "5303e35a",
   "metadata": {},
   "outputs": [
    {
     "name": "stdout",
     "output_type": "stream",
     "text": [
      "Number of missing values for columns with missing values:\n",
      "business_categories: 777 missing values\n",
      "text: 6 missing values\n",
      "Length of data before removing missing values: 229907\n"
     ]
    }
   ],
   "source": [
    "# Load dataset into DataFrame\n",
    "df_q1 = dataset\n",
    "\n",
    "# Count number of missing values in each column\n",
    "missing_values_count = df_q1.isnull().sum()\n",
    "\n",
    "# Filter to show only columns having at least one missing value\n",
    "missing_values = missing_values_count[missing_values_count > 0]\n",
    "    \n",
    "# Display number of missing values for each column with missing values\n",
    "print(\"Number of missing values for columns with missing values:\")\n",
    "for column in missing_values.index:\n",
    "    count = missing_values[column]\n",
    "    print(f\"{column}: {count} missing values\")\n",
    "\n",
    "# Print length of data before removing missing data\n",
    "print(\"Length of data before removing missing values:\", len(df_q1))"
   ]
  },
  {
   "cell_type": "markdown",
   "id": "d9543d95",
   "metadata": {},
   "source": [
    "#### Observation\n",
    "\n",
    "The dataset contains missing values in two columns, \"business_categories\" and \"text\". The \"business_categories\" column has a significantly higher number of missing values, totalling 777, compared to the \"text\" column, which has only 6 missing values."
   ]
  },
  {
   "cell_type": "markdown",
   "id": "da3df088",
   "metadata": {},
   "source": [
    "### Q1.2 Remove any row that contains at least one missing value, and output the length of the resulting cleaned dataset; After that, remove any row that contain invalid value with either \"#NAME?\" or \"#VALUE!\" in the `business_id` and `user_id` columns, and output the length of the resulting cleaned dataset."
   ]
  },
  {
   "cell_type": "code",
   "execution_count": 7,
   "id": "85b708a1",
   "metadata": {},
   "outputs": [
    {
     "name": "stdout",
     "output_type": "stream",
     "text": [
      "Length of cleaned dataset after removing rows with missing values: 229124\n",
      "Length of cleaned dataset after removing invalid values: 222759\n"
     ]
    }
   ],
   "source": [
    "# Drop rows with missing values\n",
    "df_q1 = df_q1.dropna()\n",
    "\n",
    "# Print length of cleaned dataset\n",
    "print(\"Length of cleaned dataset after removing rows with missing values:\", len(df_q1))\n",
    "\n",
    "# Select only the rows with valid values in business_id and user_id columns\n",
    "df_q1 = df_q1[(df_q1['business_id'] != '#NAME?') & (df_q1['business_id'] != '#VALUE!')]\n",
    "df_q1 = df_q1[(df_q1['user_id'] != '#NAME?') & (df_q1['user_id'] != '#VALUE!')]                                   \n",
    "\n",
    "# Print length of cleaned dataset after removing invalid values\n",
    "print(\"Length of cleaned dataset after removing invalid values:\", len(df_q1))"
   ]
  },
  {
   "cell_type": "markdown",
   "id": "334b9f9e",
   "metadata": {},
   "source": [
    "# Q2. Random Subset Selection of Yelp Businesses by City"
   ]
  },
  {
   "cell_type": "markdown",
   "id": "b386ff6c",
   "metadata": {},
   "source": [
    "Selecting a random subset of cities from the Yelp business dataset and extracting all the rows corresponding to businesses located in those cities can be useful for various purposes. For example, it can be used to \n",
    "perform exploratory data analysis on a smaller subset of the dataset, which can be more manageable and faster to process than the entire dataset. Suppose you want to select a random subset of 10 cities from the dataset and extract all the rows that correspond to businesses located in those cities. At last, print the length of the resulting sample data. Write Python code that accomplishes this task.\n",
    "\n",
    "Note: Use the $random.sample()$ function to select 10 random cities from the list of unique cities. Set the random seed to 42 before selecting the cities!!!"
   ]
  },
  {
   "cell_type": "code",
   "execution_count": 8,
   "id": "0abef7dc",
   "metadata": {},
   "outputs": [
    {
     "name": "stdout",
     "output_type": "stream",
     "text": [
      "101069\n"
     ]
    }
   ],
   "source": [
    "# Load Q1 dataset into DataFrame\n",
    "df_q2 = df_q1\n",
    "\n",
    "# Set the random seed for reproducibility\n",
    "np.random.seed(42)\n",
    "\n",
    "# Get a list of unique cities\n",
    "unique_cities = df_q2['business_city'].unique()\n",
    "\n",
    "# Select a random subset of 10 cities\n",
    "random_cities = np.random.choice(unique_cities, size=10, replace=False)\n",
    "\n",
    "# Filter the business data to only include rows with the selected cities\n",
    "df_q2 = df_q2[df_q2['business_city'].isin(random_cities)]\n",
    "\n",
    "# Print the length of the resulting sample data\n",
    "print(len(df_q2))"
   ]
  },
  {
   "cell_type": "markdown",
   "id": "0ff5298a",
   "metadata": {},
   "source": [
    "# Q3. Descriptive statistics on the data output from Q2\n",
    "### Q3.1 Compute summary statistics for the `stars` column of the sample data\n",
    "Note: the resulting output includes the count, mean, standard deviation, minimum, maximum values of the column."
   ]
  },
  {
   "cell_type": "code",
   "execution_count": 9,
   "id": "02571c2c",
   "metadata": {},
   "outputs": [
    {
     "name": "stdout",
     "output_type": "stream",
     "text": [
      "count    101069.000000\n",
      "mean          3.788056\n",
      "std           1.200260\n",
      "min           1.000000\n",
      "25%           3.000000\n",
      "50%           4.000000\n",
      "75%           5.000000\n",
      "max           5.000000\n",
      "Name: stars, dtype: float64\n"
     ]
    }
   ],
   "source": [
    "# Generate summary statistics for the stars column\n",
    "summary = df_q2['stars'].describe()\n",
    "\n",
    "# Print the summary statistics\n",
    "print(summary)"
   ]
  },
  {
   "cell_type": "markdown",
   "id": "26535d74",
   "metadata": {},
   "source": [
    "#### Observation:\n",
    "\n",
    "The 'stars' column contains 101,069 values. The average rating is 3.79 with a standard deviation of 1.20. The minimum and maximum ratings are 1 and 5, respectively. The majority of ratings fall between 3 and 5, with no extreme outliers."
   ]
  },
  {
   "cell_type": "markdown",
   "id": "9ac40c1f",
   "metadata": {},
   "source": [
    "### Q3.2 For each city in the dataframe, how many unique businesses are there?\n",
    "\n",
    "Note: the resulting dataframe has two columns: `business_city` and `count`. Compute summary statistics (similar as Q 3.1) for the `count` column."
   ]
  },
  {
   "cell_type": "code",
   "execution_count": 10,
   "id": "42af9783",
   "metadata": {},
   "outputs": [
    {
     "name": "stdout",
     "output_type": "stream",
     "text": [
      "count      10.000000\n",
      "mean      465.000000\n",
      "std      1255.969745\n",
      "min         1.000000\n",
      "25%         3.500000\n",
      "50%        11.000000\n",
      "75%       106.250000\n",
      "max      4020.000000\n",
      "Name: count, dtype: float64\n"
     ]
    },
    {
     "data": {
      "text/html": [
       "<div>\n",
       "<style scoped>\n",
       "    .dataframe tbody tr th:only-of-type {\n",
       "        vertical-align: middle;\n",
       "    }\n",
       "\n",
       "    .dataframe tbody tr th {\n",
       "        vertical-align: top;\n",
       "    }\n",
       "\n",
       "    .dataframe thead th {\n",
       "        text-align: right;\n",
       "    }\n",
       "</style>\n",
       "<table border=\"1\" class=\"dataframe\">\n",
       "  <thead>\n",
       "    <tr style=\"text-align: right;\">\n",
       "      <th></th>\n",
       "      <th>business_city</th>\n",
       "      <th>count</th>\n",
       "    </tr>\n",
       "  </thead>\n",
       "  <tbody>\n",
       "    <tr>\n",
       "      <th>0</th>\n",
       "      <td>Ahwatukee</td>\n",
       "      <td>3</td>\n",
       "    </tr>\n",
       "    <tr>\n",
       "      <th>1</th>\n",
       "      <td>Avondale</td>\n",
       "      <td>126</td>\n",
       "    </tr>\n",
       "    <tr>\n",
       "      <th>2</th>\n",
       "      <td>Casa Grande</td>\n",
       "      <td>47</td>\n",
       "    </tr>\n",
       "    <tr>\n",
       "      <th>3</th>\n",
       "      <td>Florence</td>\n",
       "      <td>10</td>\n",
       "    </tr>\n",
       "    <tr>\n",
       "      <th>4</th>\n",
       "      <td>Gilbert</td>\n",
       "      <td>425</td>\n",
       "    </tr>\n",
       "    <tr>\n",
       "      <th>5</th>\n",
       "      <td>Gold Canyon</td>\n",
       "      <td>12</td>\n",
       "    </tr>\n",
       "    <tr>\n",
       "      <th>6</th>\n",
       "      <td>Higley</td>\n",
       "      <td>5</td>\n",
       "    </tr>\n",
       "    <tr>\n",
       "      <th>7</th>\n",
       "      <td>North Pinal</td>\n",
       "      <td>1</td>\n",
       "    </tr>\n",
       "    <tr>\n",
       "      <th>8</th>\n",
       "      <td>Phoenix</td>\n",
       "      <td>4020</td>\n",
       "    </tr>\n",
       "    <tr>\n",
       "      <th>9</th>\n",
       "      <td>Tucson</td>\n",
       "      <td>1</td>\n",
       "    </tr>\n",
       "  </tbody>\n",
       "</table>\n",
       "</div>"
      ],
      "text/plain": [
       "  business_city  count\n",
       "0     Ahwatukee      3\n",
       "1      Avondale    126\n",
       "2   Casa Grande     47\n",
       "3      Florence     10\n",
       "4       Gilbert    425\n",
       "5   Gold Canyon     12\n",
       "6        Higley      5\n",
       "7   North Pinal      1\n",
       "8       Phoenix   4020\n",
       "9        Tucson      1"
      ]
     },
     "execution_count": 10,
     "metadata": {},
     "output_type": "execute_result"
    }
   ],
   "source": [
    "# Group the dataframe by business_city and count the number of unique businesses in each city\n",
    "unique_business_count = df_q2.groupby('business_city')['business_id'].nunique().reset_index()\n",
    "\n",
    "# Rename the columns of the resulting dataframe\n",
    "unique_business_count.columns = ['business_city', 'count']\n",
    "\n",
    "# Generate summary statistics for the count column\n",
    "summary = unique_business_count['count'].describe()\n",
    "\n",
    "# Print the summary statistics\n",
    "print(summary)\n",
    "\n",
    "# Display the resulting dataframe\n",
    "unique_business_count"
   ]
  },
  {
   "cell_type": "markdown",
   "id": "b549f9d4",
   "metadata": {},
   "source": [
    "#### Observation\n",
    "\n",
    "The 'count' column contains 10 values. The mean count is 465 and the standard deviation is 1255.97. The minimum count is 1 and the maximum count is 4020. The distribution appears to be highly skewed to the right, with an extreme outlier of 4020."
   ]
  },
  {
   "cell_type": "markdown",
   "id": "90c84abe",
   "metadata": {},
   "source": [
    "### Q3.3 For each business category and business ID combination in the dataframe, how many unique users have rated the business?\n",
    "\n",
    "Note: the resulting dataframe has three columns: `business_categories`, `business_id`, and `count`. Compute summary statistics (similar as Q 3.1) for the `count` column."
   ]
  },
  {
   "cell_type": "code",
   "execution_count": 11,
   "id": "442afa03",
   "metadata": {},
   "outputs": [
    {
     "name": "stdout",
     "output_type": "stream",
     "text": [
      "count    4650.000000\n",
      "mean       21.735269\n",
      "std        49.349067\n",
      "min         2.000000\n",
      "25%         4.000000\n",
      "50%         6.000000\n",
      "75%        17.000000\n",
      "max       832.000000\n",
      "Name: count, dtype: float64\n"
     ]
    },
    {
     "data": {
      "text/html": [
       "<div>\n",
       "<style scoped>\n",
       "    .dataframe tbody tr th:only-of-type {\n",
       "        vertical-align: middle;\n",
       "    }\n",
       "\n",
       "    .dataframe tbody tr th {\n",
       "        vertical-align: top;\n",
       "    }\n",
       "\n",
       "    .dataframe thead th {\n",
       "        text-align: right;\n",
       "    }\n",
       "</style>\n",
       "<table border=\"1\" class=\"dataframe\">\n",
       "  <thead>\n",
       "    <tr style=\"text-align: right;\">\n",
       "      <th></th>\n",
       "      <th>business_categories</th>\n",
       "      <th>business_id</th>\n",
       "      <th>count</th>\n",
       "    </tr>\n",
       "  </thead>\n",
       "  <tbody>\n",
       "    <tr>\n",
       "      <th>0</th>\n",
       "      <td>Accountants; Professional Services</td>\n",
       "      <td>2k1I66IxKL9vJnRQhXWkDQ</td>\n",
       "      <td>4</td>\n",
       "    </tr>\n",
       "    <tr>\n",
       "      <th>1</th>\n",
       "      <td>Accountants; Professional Services</td>\n",
       "      <td>T7acIuznS5juLqB-iUQFlg</td>\n",
       "      <td>3</td>\n",
       "    </tr>\n",
       "    <tr>\n",
       "      <th>2</th>\n",
       "      <td>Accountants; Professional Services; Financial ...</td>\n",
       "      <td>v5jl0e2gR1dBENyFM6ZWPw</td>\n",
       "      <td>3</td>\n",
       "    </tr>\n",
       "    <tr>\n",
       "      <th>3</th>\n",
       "      <td>Accountants; Professional Services; Tax Servic...</td>\n",
       "      <td>FYfh6ZwOovpZvmSHa4DRRA</td>\n",
       "      <td>3</td>\n",
       "    </tr>\n",
       "    <tr>\n",
       "      <th>4</th>\n",
       "      <td>Active Life</td>\n",
       "      <td>EwRpc3Jt9LvTXhIcsCPUIg</td>\n",
       "      <td>6</td>\n",
       "    </tr>\n",
       "    <tr>\n",
       "      <th>...</th>\n",
       "      <td>...</td>\n",
       "      <td>...</td>\n",
       "      <td>...</td>\n",
       "    </tr>\n",
       "    <tr>\n",
       "      <th>4645</th>\n",
       "      <td>Women's Clothing; Men's Clothing; Fashion; Sho...</td>\n",
       "      <td>mqnDe6r517vcmOa3tyyqrg</td>\n",
       "      <td>4</td>\n",
       "    </tr>\n",
       "    <tr>\n",
       "      <th>4646</th>\n",
       "      <td>Women's Clothing; Plus Size Fashion; Fashion; ...</td>\n",
       "      <td>FLRJOfsVjRcUL01j60V-ZA</td>\n",
       "      <td>9</td>\n",
       "    </tr>\n",
       "    <tr>\n",
       "      <th>4647</th>\n",
       "      <td>Women's Clothing; Used, Vintage &amp; Consignment;...</td>\n",
       "      <td>VDEaaZcoWAZee77SdF2y0Q</td>\n",
       "      <td>3</td>\n",
       "    </tr>\n",
       "    <tr>\n",
       "      <th>4648</th>\n",
       "      <td>Women's Clothing; Used, Vintage &amp; Consignment;...</td>\n",
       "      <td>JmEp4DxBEIrFD-rgbL8bvQ</td>\n",
       "      <td>49</td>\n",
       "    </tr>\n",
       "    <tr>\n",
       "      <th>4649</th>\n",
       "      <td>Yoga; Beauty &amp; Spas; Food; Juice Bars &amp; Smooth...</td>\n",
       "      <td>tbANFIP17slL1xPIUsl1MA</td>\n",
       "      <td>29</td>\n",
       "    </tr>\n",
       "  </tbody>\n",
       "</table>\n",
       "<p>4650 rows × 3 columns</p>\n",
       "</div>"
      ],
      "text/plain": [
       "                                    business_categories  \\\n",
       "0                    Accountants; Professional Services   \n",
       "1                    Accountants; Professional Services   \n",
       "2     Accountants; Professional Services; Financial ...   \n",
       "3     Accountants; Professional Services; Tax Servic...   \n",
       "4                                           Active Life   \n",
       "...                                                 ...   \n",
       "4645  Women's Clothing; Men's Clothing; Fashion; Sho...   \n",
       "4646  Women's Clothing; Plus Size Fashion; Fashion; ...   \n",
       "4647  Women's Clothing; Used, Vintage & Consignment;...   \n",
       "4648  Women's Clothing; Used, Vintage & Consignment;...   \n",
       "4649  Yoga; Beauty & Spas; Food; Juice Bars & Smooth...   \n",
       "\n",
       "                 business_id  count  \n",
       "0     2k1I66IxKL9vJnRQhXWkDQ      4  \n",
       "1     T7acIuznS5juLqB-iUQFlg      3  \n",
       "2     v5jl0e2gR1dBENyFM6ZWPw      3  \n",
       "3     FYfh6ZwOovpZvmSHa4DRRA      3  \n",
       "4     EwRpc3Jt9LvTXhIcsCPUIg      6  \n",
       "...                      ...    ...  \n",
       "4645  mqnDe6r517vcmOa3tyyqrg      4  \n",
       "4646  FLRJOfsVjRcUL01j60V-ZA      9  \n",
       "4647  VDEaaZcoWAZee77SdF2y0Q      3  \n",
       "4648  JmEp4DxBEIrFD-rgbL8bvQ     49  \n",
       "4649  tbANFIP17slL1xPIUsl1MA     29  \n",
       "\n",
       "[4650 rows x 3 columns]"
      ]
     },
     "execution_count": 11,
     "metadata": {},
     "output_type": "execute_result"
    }
   ],
   "source": [
    "# Group the dataframe by business_categories and business_id, and count the number of unique users who have rated each business\n",
    "unique_user_count = df_q2.groupby(['business_categories', 'business_id'])['user_id'].nunique().reset_index()\n",
    "\n",
    "# Rename the columns of the resulting dataframe\n",
    "unique_user_count.columns = ['business_categories', 'business_id', 'count']\n",
    "\n",
    "# Generate summary statistics for the count column\n",
    "summary = unique_user_count['count'].describe()\n",
    "\n",
    "# Print the summary statistics\n",
    "print(summary)\n",
    "\n",
    "# Display the resulting dataframe\n",
    "unique_user_count"
   ]
  },
  {
   "cell_type": "markdown",
   "id": "98aac2aa",
   "metadata": {},
   "source": [
    "#### Observation\n",
    "\n",
    "The 'count' column contains 4650 values. The average count is 21.74, with a standard deviation of 49.35. The minimum count is 2 and the maximum count is 832. The distribution of counts appears to be right-skewed, with an extreme outlier of 832."
   ]
  },
  {
   "cell_type": "markdown",
   "id": "8e5b9d9f",
   "metadata": {},
   "source": [
    "# Q4. Plotting and Analysis"
   ]
  },
  {
   "cell_type": "markdown",
   "id": "1fe2a1bb",
   "metadata": {},
   "source": [
    "Explore the distribution of each variable, or the correlation between the `business_city`, `useful`,`business_categories` or `other variables` and the `stars` column in both the cleaned dataset from Q1 and the sampled dataset from Q2. For instance, does some cities tend to provide higher stars than others? Hint: you may use the boxplot function to plot figures for comparison (___Challenge___).\n",
    "    \n",
    "You may need to select the most suitable graphic forms for ease of presentation. Most importantly, for each figure or subfigure, please summarise ___what each plot shows___ (i.e. observations and explanations). Finally, you may need to provide an overall summary of the Yelp data."
   ]
  },
  {
   "cell_type": "markdown",
   "id": "d5e27994",
   "metadata": {},
   "source": [
    "Analysis and observation are open, and require you to think critically and analyze data to develop your own insights and conclusions. It's important for you to analyze the data, identify patterns, draw your own conclusions, and communicate your findings. This fosters critical thinking skills, ownership of learning, and a deeper understanding of the data."
   ]
  },
  {
   "cell_type": "code",
   "execution_count": 12,
   "id": "2a929498",
   "metadata": {},
   "outputs": [
    {
     "data": {
      "image/png": "[encoded data removed]",
      "text/plain": [
       "<Figure size 640x480 with 1 Axes>"
      ]
     },
     "metadata": {},
     "output_type": "display_data"
    }
   ],
   "source": [
    "# Load the cleaned dataset and the sampled dataset from questions 1 and 2.\n",
    "cleaned_df = df_q1\n",
    "sampled_df = df_q2\n",
    "\n",
    "# Generate a histogram showing the distribution of the stars column\n",
    "cleaned_df['stars'].plot(kind='hist', bins=10, alpha=1, label='Cleaned Dataset')\n",
    "sampled_df['stars'].plot(kind='hist', bins=10, alpha=1, label='Sampled Dataset')\n",
    "\n",
    "# Label the histogram\n",
    "plt.xlabel('Stars')\n",
    "plt.ylabel('Frequency')\n",
    "plt.title('Distribution of Stars')\n",
    "\n",
    "# Display the histogram\n",
    "plt.legend()\n",
    "plt.show()"
   ]
  },
  {
   "cell_type": "code",
   "execution_count": null,
   "id": "82cbbe98",
   "metadata": {},
   "outputs": [],
   "source": []
  }
 ],
 "metadata": {
  "kernelspec": {
   "display_name": "Python 3 (ipykernel)",
   "language": "python",
   "name": "python3"
  },
  "language_info": {
   "codemirror_mode": {
    "name": "ipython",
    "version": 3
   },
   "file_extension": ".py",
   "mimetype": "text/x-python",
   "name": "python",
   "nbconvert_exporter": "python",
   "pygments_lexer": "ipython3",
   "version": "3.9.13"
  }
 },
 "nbformat": 4,
 "nbformat_minor": 5
}
